{
 "cells": [
  {
   "cell_type": "code",
   "execution_count": 91,
   "id": "3c3b2b43",
   "metadata": {},
   "outputs": [],
   "source": [
    "import tkinter as tk\n",
    "from tkinter import*\n",
    "from tkinter import ttk\n",
    "\n",
    "root = Tk()\n",
    "root.config(bg=\"light grey\")\n",
    "root.geometry(\"450x200\")\n",
    "root.title(\"Registration Form\")\n",
    "root.resizable(0,0)\n",
    "\n",
    "heading = Label(root, text=\"Registration Form\",fg=\"black\", bg=\"light grey\",font=[\"arial\",20])\n",
    "name = Label(root, text=\"Full name\",bg=\"light grey\", fg=\"black\")\n",
    "email = Label(root, text=\"Email\", bg=\"light grey\", fg=\"black\")\n",
    "gender = Label(root, text=\"Gender\", bg=\"light grey\",fg=\"black\")\n",
    "country = Label(root, text=\"Country\", bg=\"light grey\",fg=\"black\")\n",
    "course = Label(root, text=\"Programming\",bg=\"light grey\", fg=\"black\")\n",
    "\n",
    "heading.grid(row=0,column=0,columnspan=2)\n",
    "name.grid(row=1,column=0)\n",
    "email.grid(row=2,column=0)\n",
    "gender.grid(row=3,column=0)\n",
    "country.grid(row=4,column=0)\n",
    "course.grid(row=5,column=0)\n",
    "\n",
    "v = IntVar()\n",
    "name_field=Entry(root)\n",
    "email_field=Entry(root)\n",
    "gender_field=Radiobutton(root, text=\"Male\", variable=v, value=1)\n",
    "gender_field2=Radiobutton(root, text=\"Female\", variable=v, value=2)\n",
    "country_field=ttk.Combobox(root, width=12)\n",
    "country_field['value']=[\"Pakistan\", \"USA\", \"India\", \"Australia\", \"Canada\", \"France\", \"Brazil\", \"Africa\"]\n",
    "v1 = IntVar()\n",
    "course_field=Checkbutton(root, text=\"Java\", variable=v1)\n",
    "v2 = IntVar()\n",
    "course_field2=Checkbutton(root, text=\"Python\", variable=v2)\n",
    "submit = Button(root, text=\"Submit\", fg=\"black\",bg=\"red\")\n",
    "\n",
    "name_field.grid(row=1, column=1,columnspan=4, ipadx=\"100\")\n",
    "email_field.grid(row=2, column=1,columnspan=4, ipadx=\"100\")\n",
    "gender_field.grid(row=3, column=1, columnspan=1)\n",
    "gender_field2.grid(row=3, column=2, columnspan=1)\n",
    "country_field.grid(row=4, column=1)\n",
    "course_field.grid(row=5, column=1, columnspan=1)\n",
    "course_field2.grid(row=5, column=2, columnspan=1)\n",
    "submit.grid(row=7, column=0)\n",
    "\n",
    "\n",
    "root.mainloop()"
   ]
  },
  {
   "cell_type": "markdown",
   "id": "62f64f4e",
   "metadata": {},
   "source": [
    "# Task 3 : Q1"
   ]
  },
  {
   "cell_type": "code",
   "execution_count": 2,
   "id": "5a294938",
   "metadata": {},
   "outputs": [
    {
     "data": {
      "text/plain": [
       "'Shutdown Aborted'"
      ]
     },
     "execution_count": 2,
     "metadata": {},
     "output_type": "execute_result"
    }
   ],
   "source": [
    "def shut_down(s):\n",
    "    if s == \"yes\":\n",
    "        return \"Shutting Down\"\n",
    "    elif s == \"no\":\n",
    "        return \"Shutdown Aborted\"\n",
    "    else:\n",
    "        return \"Sorry\"\n",
    "\n",
    "s = \"no\"\n",
    "shut_down(s)"
   ]
  },
  {
   "cell_type": "markdown",
   "id": "075f4a35",
   "metadata": {},
   "source": [
    "# Task 3 : Q2"
   ]
  },
  {
   "cell_type": "code",
   "execution_count": 18,
   "id": "bf00c200",
   "metadata": {},
   "outputs": [
    {
     "name": "stdout",
     "output_type": "stream",
     "text": [
      "word"
     ]
    }
   ],
   "source": [
    "for letter in \"word\":\n",
    "    print(letter, end=\"\")"
   ]
  },
  {
   "cell_type": "code",
   "execution_count": 38,
   "id": "7232224b",
   "metadata": {},
   "outputs": [
    {
     "name": "stdout",
     "output_type": "stream",
     "text": [
      "w\n",
      "o\n",
      "d\n"
     ]
    }
   ],
   "source": [
    "for letter in \"word\":\n",
    "    if letter == \"r\":\n",
    "        continue\n",
    "    print(letter)"
   ]
  },
  {
   "cell_type": "markdown",
   "id": "68b67b36",
   "metadata": {},
   "source": [
    "# Task3 : Q3"
   ]
  },
  {
   "cell_type": "code",
   "execution_count": 54,
   "id": "9242b1e8",
   "metadata": {},
   "outputs": [
    {
     "data": {
      "text/plain": [
       "[<matplotlib.lines.Line2D at 0x27789064130>]"
      ]
     },
     "execution_count": 54,
     "metadata": {},
     "output_type": "execute_result"
    },
    {
     "data": {
      "image/png": "[encoded data removed]",
      "text/plain": [
       "<Figure size 432x288 with 1 Axes>"
      ]
     },
     "metadata": {
      "needs_background": "light"
     },
     "output_type": "display_data"
    }
   ],
   "source": [
    "import matplotlib.pyplot as plt\n",
    "Distance = [10,30,20,50,63,34,35,12,30]\n",
    "Time = [0,1,2,3,4,5,6,7,8]\n",
    "plt.plot(Time,Distance, linestyle=\"--\", color=\"cyan\", marker=\"*\", markerfacecolor=\"red\", markersize=\"12\", markeredgecolor=\"red\")"
   ]
  },
  {
   "cell_type": "markdown",
   "id": "f5fd5d6f",
   "metadata": {},
   "source": [
    "# Task3 : Q4"
   ]
  },
  {
   "cell_type": "code",
   "execution_count": 34,
   "id": "9c57a5ff",
   "metadata": {},
   "outputs": [
    {
     "name": "stdout",
     "output_type": "stream",
     "text": [
      "2\n",
      "4\n",
      "6\n",
      "8\n",
      "10\n",
      "12 Done\n",
      "14\n",
      "16\n",
      "18\n",
      "20\n"
     ]
    }
   ],
   "source": [
    "num = 1\n",
    "while(num <= 20):\n",
    "    num = num + 1\n",
    "    if num %2 != 0:\n",
    "        continue\n",
    "    if num == 12:\n",
    "        print(num,\"Done\")\n",
    "    else:\n",
    "        print(num)"
   ]
  },
  {
   "cell_type": "markdown",
   "id": "9ec40456",
   "metadata": {},
   "source": [
    "# Task3 : Q5"
   ]
  },
  {
   "cell_type": "code",
   "execution_count": 37,
   "id": "385cbb2a",
   "metadata": {},
   "outputs": [
    {
     "name": "stdout",
     "output_type": "stream",
     "text": [
      "M\n",
      "y\n",
      "b\n",
      "l\n",
      "o\n",
      "g\n"
     ]
    }
   ],
   "source": [
    "for i in \"Myblog\":\n",
    "    print(i)"
   ]
  },
  {
   "cell_type": "markdown",
   "id": "61311042",
   "metadata": {},
   "source": [
    "# Task3 : Q6"
   ]
  },
  {
   "cell_type": "code",
   "execution_count": 65,
   "id": "11a1855e",
   "metadata": {},
   "outputs": [
    {
     "data": {
      "text/plain": [
       "[<matplotlib.lines.Line2D at 0x277894a0460>]"
      ]
     },
     "execution_count": 65,
     "metadata": {},
     "output_type": "execute_result"
    },
    {
     "data": {
      "image/png": "[encoded data removed]",
      "text/plain": [
       "<Figure size 432x288 with 1 Axes>"
      ]
     },
     "metadata": {
      "needs_background": "light"
     },
     "output_type": "display_data"
    }
   ],
   "source": [
    "import matplotlib.pyplot as plt\n",
    "x = [0,1,2,3,4,5,6,7,8,9]\n",
    "y = [1.1, 0.8, -0.7, 0.5, -1.0, -1.3, 1.5, -0.7, 0.0, -1.9]\n",
    "plt.plot(x,y, color=\"blue\", marker=\"o\", markerfacecolor=\"white\", markersize=12)"
   ]
  },
  {
   "cell_type": "code",
   "execution_count": null,
   "id": "c4f96044",
   "metadata": {},
   "outputs": [],
   "source": []
  }
 ],
 "metadata": {
  "kernelspec": {
   "display_name": "Python 3 (ipykernel)",
   "language": "python",
   "name": "python3"
  },
  "language_info": {
   "codemirror_mode": {
    "name": "ipython",
    "version": 3
   },
   "file_extension": ".py",
   "mimetype": "text/x-python",
   "name": "python",
   "nbconvert_exporter": "python",
   "pygments_lexer": "ipython3",
   "version": "3.10.5"
  }
 },
 "nbformat": 4,
 "nbformat_minor": 5
}
